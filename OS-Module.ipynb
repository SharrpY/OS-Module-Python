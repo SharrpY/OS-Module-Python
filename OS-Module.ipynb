{
 "cells": [
  {
   "cell_type": "code",
   "execution_count": 1,
   "id": "c92b8906",
   "metadata": {},
   "outputs": [
    {
     "data": {
      "text/plain": [
       "'C:\\\\Users\\\\ASUS\\\\OneDrive\\\\Masaüstü\\\\python'"
      ]
     },
     "execution_count": 1,
     "metadata": {},
     "output_type": "execute_result"
    }
   ],
   "source": [
    "pwd"
   ]
  },
  {
   "cell_type": "code",
   "execution_count": 2,
   "id": "521e1515",
   "metadata": {},
   "outputs": [],
   "source": [
    "f = open('practice.txt','w+')\n",
    "f.write('This is a test string')\n",
    "f.close()"
   ]
  },
  {
   "cell_type": "code",
   "execution_count": 3,
   "id": "48714f9e",
   "metadata": {},
   "outputs": [],
   "source": [
    "import os"
   ]
  },
  {
   "cell_type": "code",
   "execution_count": 18,
   "id": "3fa7cc61",
   "metadata": {},
   "outputs": [
    {
     "data": {
      "text/plain": [
       "'C:\\\\Users\\\\ASUS\\\\OneDrive\\\\Masaüstü\\\\python'"
      ]
     },
     "execution_count": 18,
     "metadata": {},
     "output_type": "execute_result"
    }
   ],
   "source": [
    "os.getcwd() # GET CURRENT WORKING DIRECTORY"
   ]
  },
  {
   "cell_type": "code",
   "execution_count": 19,
   "id": "5b81197a",
   "metadata": {
    "scrolled": true
   },
   "outputs": [
    {
     "data": {
      "text/plain": [
       "['.git',\n",
       " '.ipynb_checkpoints',\n",
       " 'args-kwargs.ipynb',\n",
       " 'Assessment.ipynb',\n",
       " 'Assessment2.ipynb',\n",
       " 'Bank.ipynb',\n",
       " 'Collections-Module.ipynb',\n",
       " 'Comprehensions.ipynb',\n",
       " 'dasdsafasfsadsa.txt',\n",
       " 'Decorators-Python.ipynb',\n",
       " 'Dictionaries.ipynb',\n",
       " 'Errors-ExceptionHandling.ipynb',\n",
       " 'Exercises.ipynb',\n",
       " 'For Loop.ipynb',\n",
       " 'Functions.ipynb',\n",
       " 'Functions2.ipynb',\n",
       " 'Generators.ipynb',\n",
       " 'Homework-Solutions.ipynb',\n",
       " 'I-O.ipynb',\n",
       " 'IF_ELIF_ELSE.ipynb',\n",
       " 'Immutability.ipynb',\n",
       " 'Inheritance.ipynb',\n",
       " 'Lambda-map-filterfunc.ipynb',\n",
       " 'Lists.ipynb',\n",
       " 'Methods.ipynb',\n",
       " 'MethodsandFunctionsSolutions.ipynb',\n",
       " 'Milestone-pro.ipynb',\n",
       " 'MilestoneProject1.ipynb',\n",
       " 'myfile.txt',\n",
       " 'myfirstnotebook.ipynb',\n",
       " 'my_new_file.txt',\n",
       " 'NestedStatem-Scope.ipynb',\n",
       " 'OOP1-attributes-class.ipynb',\n",
       " 'Opening-and-Reading-Files-Folders.ipynb',\n",
       " 'OS-Module.ipynb',\n",
       " 'Polymorphism.ipynb',\n",
       " 'practice.txt',\n",
       " 'Sets.ipynb',\n",
       " 'Special-Methods.ipynb',\n",
       " 'Strings.ipynb',\n",
       " 'testfile',\n",
       " 'TicTacToe.ipynb',\n",
       " 'Tuples.ipynb',\n",
       " 'Tuple_Unpacking.ipynb',\n",
       " 'UsefulOperations.ipynb',\n",
       " 'WarGame-Deck.ipynb',\n",
       " 'While.ipynb']"
      ]
     },
     "execution_count": 19,
     "metadata": {},
     "output_type": "execute_result"
    }
   ],
   "source": [
    "os.listdir() # LIST ALL ITEM IN WORKING DIRECTORY"
   ]
  },
  {
   "cell_type": "code",
   "execution_count": 20,
   "id": "b404c156",
   "metadata": {},
   "outputs": [],
   "source": [
    "import shutil # TO MOVE FILE IN DIFFERENT LOCATIONS"
   ]
  },
  {
   "cell_type": "code",
   "execution_count": 21,
   "id": "98f1c88a",
   "metadata": {},
   "outputs": [],
   "source": [
    "import send2trash"
   ]
  },
  {
   "cell_type": "code",
   "execution_count": 22,
   "id": "ea22b065",
   "metadata": {},
   "outputs": [],
   "source": [
    "send2trash.send2trash('practice.txt')"
   ]
  },
  {
   "cell_type": "code",
   "execution_count": 24,
   "id": "db5d4d6a",
   "metadata": {
    "scrolled": true
   },
   "outputs": [
    {
     "data": {
      "text/plain": [
       "['.git',\n",
       " '.ipynb_checkpoints',\n",
       " 'args-kwargs.ipynb',\n",
       " 'Assessment.ipynb',\n",
       " 'Assessment2.ipynb',\n",
       " 'Bank.ipynb',\n",
       " 'Collections-Module.ipynb',\n",
       " 'Comprehensions.ipynb',\n",
       " 'dasdsafasfsadsa.txt',\n",
       " 'Decorators-Python.ipynb',\n",
       " 'Dictionaries.ipynb',\n",
       " 'Errors-ExceptionHandling.ipynb',\n",
       " 'Exercises.ipynb',\n",
       " 'For Loop.ipynb',\n",
       " 'Functions.ipynb',\n",
       " 'Functions2.ipynb',\n",
       " 'Generators.ipynb',\n",
       " 'Homework-Solutions.ipynb',\n",
       " 'I-O.ipynb',\n",
       " 'IF_ELIF_ELSE.ipynb',\n",
       " 'Immutability.ipynb',\n",
       " 'Inheritance.ipynb',\n",
       " 'Lambda-map-filterfunc.ipynb',\n",
       " 'Lists.ipynb',\n",
       " 'Methods.ipynb',\n",
       " 'MethodsandFunctionsSolutions.ipynb',\n",
       " 'Milestone-pro.ipynb',\n",
       " 'MilestoneProject1.ipynb',\n",
       " 'myfile.txt',\n",
       " 'myfirstnotebook.ipynb',\n",
       " 'my_new_file.txt',\n",
       " 'NestedStatem-Scope.ipynb',\n",
       " 'OOP1-attributes-class.ipynb',\n",
       " 'Opening-and-Reading-Files-Folders.ipynb',\n",
       " 'OS-Module.ipynb',\n",
       " 'Polymorphism.ipynb',\n",
       " 'Sets.ipynb',\n",
       " 'Special-Methods.ipynb',\n",
       " 'Strings.ipynb',\n",
       " 'testfile',\n",
       " 'TicTacToe.ipynb',\n",
       " 'Tuples.ipynb',\n",
       " 'Tuple_Unpacking.ipynb',\n",
       " 'Untitled Folder',\n",
       " 'UsefulOperations.ipynb',\n",
       " 'WarGame-Deck.ipynb',\n",
       " 'While.ipynb']"
      ]
     },
     "execution_count": 24,
     "metadata": {},
     "output_type": "execute_result"
    }
   ],
   "source": [
    "os.listdir()"
   ]
  },
  {
   "cell_type": "code",
   "execution_count": 25,
   "id": "51f2106e",
   "metadata": {},
   "outputs": [
    {
     "data": {
      "text/plain": [
       "'C:\\\\Users\\\\ASUS\\\\OneDrive\\\\Masaüstü\\\\python'"
      ]
     },
     "execution_count": 25,
     "metadata": {},
     "output_type": "execute_result"
    }
   ],
   "source": [
    "os.getcwd()"
   ]
  },
  {
   "cell_type": "code",
   "execution_count": 31,
   "id": "6e841064",
   "metadata": {},
   "outputs": [],
   "source": [
    "file_path = 'C:\\\\Users\\\\ASUS\\\\OneDrive\\\\Masaüstü\\\\python\\\\Folder'"
   ]
  },
  {
   "cell_type": "code",
   "execution_count": 33,
   "id": "f88c4abd",
   "metadata": {},
   "outputs": [
    {
     "name": "stdout",
     "output_type": "stream",
     "text": [
      "Currently looking at C:\\Users\\ASUS\\OneDrive\\Masaüstü\\python\\Folder\n",
      "\n",
      "\n",
      "The subfolders are: \n",
      "\t Subfolder: .ipynb_checkpoints\n",
      "\n",
      "\n",
      "the files are: \n",
      "File: Example_Top_Level.ipynb\n",
      "File: untitled.txt\n",
      "\n",
      "\n",
      "Currently looking at C:\\Users\\ASUS\\OneDrive\\Masaüstü\\python\\Folder\\.ipynb_checkpoints\n",
      "\n",
      "\n",
      "The subfolders are: \n",
      "\n",
      "\n",
      "the files are: \n",
      "File: Example_Top_Level-checkpoint.ipynb\n",
      "\n",
      "\n"
     ]
    }
   ],
   "source": [
    "for folder, sub_folders, files in os.walk(file_path):\n",
    "    \n",
    "    print(f\"Currently looking at {folder}\")\n",
    "    print('\\n')\n",
    "    print('The subfolders are: ')\n",
    "    for sub_folder in sub_folders:\n",
    "        print(f\"\\t Subfolder: {sub_folder}\")\n",
    "    \n",
    "    print('\\n')\n",
    "    print(\"the files are: \")\n",
    "    for f in files:\n",
    "        print(f\"File: {f}\")\n",
    "    print('\\n')"
   ]
  },
  {
   "cell_type": "code",
   "execution_count": null,
   "id": "9885708a",
   "metadata": {},
   "outputs": [],
   "source": []
  }
 ],
 "metadata": {
  "kernelspec": {
   "display_name": "Python 3 (ipykernel)",
   "language": "python",
   "name": "python3"
  },
  "language_info": {
   "codemirror_mode": {
    "name": "ipython",
    "version": 3
   },
   "file_extension": ".py",
   "mimetype": "text/x-python",
   "name": "python",
   "nbconvert_exporter": "python",
   "pygments_lexer": "ipython3",
   "version": "3.10.9"
  }
 },
 "nbformat": 4,
 "nbformat_minor": 5
}
